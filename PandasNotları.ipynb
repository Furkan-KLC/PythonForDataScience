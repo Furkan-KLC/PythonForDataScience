{
 "cells": [
  {
   "cell_type": "code",
   "execution_count": 374,
   "id": "bf33aea4",
   "metadata": {},
   "outputs": [],
   "source": [
    "import pandas as pd \n",
    "import numpy as np \n"
   ]
  },
  {
   "cell_type": "code",
   "execution_count": 375,
   "id": "69718c80",
   "metadata": {},
   "outputs": [
    {
     "data": {
      "text/plain": [
       "0    1.0\n",
       "1    3.0\n",
       "2    5.0\n",
       "3    NaN\n",
       "4    6.0\n",
       "5    8.0\n",
       "dtype: float64"
      ]
     },
     "execution_count": 375,
     "metadata": {},
     "output_type": "execute_result"
    }
   ],
   "source": [
    "data= pd.Series([1, 3, 5, np.nan, 6, 8])\n",
    "data"
   ]
  },
  {
   "cell_type": "code",
   "execution_count": 376,
   "id": "2f45da77",
   "metadata": {},
   "outputs": [
    {
     "data": {
      "text/plain": [
       "a    1.0\n",
       "b    3.0\n",
       "c    5.0\n",
       "d    NaN\n",
       "e    6.0\n",
       "f    8.0\n",
       "dtype: float64"
      ]
     },
     "execution_count": 376,
     "metadata": {},
     "output_type": "execute_result"
    }
   ],
   "source": [
    "pd.Series([1, 3, 5, np.nan, 6, 8],index=list(\"abcdef\"))"
   ]
  },
  {
   "cell_type": "code",
   "execution_count": 377,
   "id": "0dd0034f",
   "metadata": {},
   "outputs": [
    {
     "data": {
      "text/plain": [
       "DatetimeIndex(['2000-01-01 00:00:00', '2000-01-03 09:36:00',\n",
       "               '2000-01-05 19:12:00', '2000-01-08 04:48:00',\n",
       "               '2000-01-10 14:24:00', '2000-01-13 00:00:00'],\n",
       "              dtype='datetime64[ns]', freq=None)"
      ]
     },
     "execution_count": 377,
     "metadata": {},
     "output_type": "execute_result"
    }
   ],
   "source": [
    "dates=pd.date_range(start=\"01-01-2000\",end=\"13-01-2000\",periods=6)\n",
    "dates"
   ]
  },
  {
   "cell_type": "code",
   "execution_count": 378,
   "id": "61a9de2f",
   "metadata": {},
   "outputs": [
    {
     "data": {
      "text/html": [
       "<div>\n",
       "<style scoped>\n",
       "    .dataframe tbody tr th:only-of-type {\n",
       "        vertical-align: middle;\n",
       "    }\n",
       "\n",
       "    .dataframe tbody tr th {\n",
       "        vertical-align: top;\n",
       "    }\n",
       "\n",
       "    .dataframe thead th {\n",
       "        text-align: right;\n",
       "    }\n",
       "</style>\n",
       "<table border=\"1\" class=\"dataframe\">\n",
       "  <thead>\n",
       "    <tr style=\"text-align: right;\">\n",
       "      <th></th>\n",
       "      <th>A</th>\n",
       "      <th>B</th>\n",
       "      <th>C</th>\n",
       "      <th>D</th>\n",
       "    </tr>\n",
       "  </thead>\n",
       "  <tbody>\n",
       "    <tr>\n",
       "      <th>2025-01-01</th>\n",
       "      <td>14</td>\n",
       "      <td>30</td>\n",
       "      <td>28</td>\n",
       "      <td>31</td>\n",
       "    </tr>\n",
       "    <tr>\n",
       "      <th>2025-01-05</th>\n",
       "      <td>44</td>\n",
       "      <td>38</td>\n",
       "      <td>41</td>\n",
       "      <td>30</td>\n",
       "    </tr>\n",
       "    <tr>\n",
       "      <th>2025-01-09</th>\n",
       "      <td>30</td>\n",
       "      <td>21</td>\n",
       "      <td>42</td>\n",
       "      <td>22</td>\n",
       "    </tr>\n",
       "    <tr>\n",
       "      <th>2025-01-13</th>\n",
       "      <td>26</td>\n",
       "      <td>11</td>\n",
       "      <td>26</td>\n",
       "      <td>16</td>\n",
       "    </tr>\n",
       "  </tbody>\n",
       "</table>\n",
       "</div>"
      ],
      "text/plain": [
       "             A   B   C   D\n",
       "2025-01-01  14  30  28  31\n",
       "2025-01-05  44  38  41  30\n",
       "2025-01-09  30  21  42  22\n",
       "2025-01-13  26  11  26  16"
      ]
     },
     "execution_count": 378,
     "metadata": {},
     "output_type": "execute_result"
    }
   ],
   "source": [
    "date_data=pd.DataFrame(np.random.randint(10,50,16).reshape(4,4),index=pd.date_range(start=\"01-01-2025\",end=\"13-01-2025\",periods=4),columns=list(\"ABCD\"))\n",
    "date_data"
   ]
  },
  {
   "cell_type": "code",
   "execution_count": 379,
   "id": "7db3613c",
   "metadata": {},
   "outputs": [
    {
     "data": {
      "text/plain": [
       "2025-01-01    28\n",
       "2025-01-05    41\n",
       "2025-01-09    42\n",
       "2025-01-13    26\n",
       "Name: C, dtype: int32"
      ]
     },
     "execution_count": 379,
     "metadata": {},
     "output_type": "execute_result"
    }
   ],
   "source": [
    "date_data[\"C\"]"
   ]
  },
  {
   "cell_type": "code",
   "execution_count": 380,
   "id": "eb73c580",
   "metadata": {},
   "outputs": [
    {
     "data": {
      "text/html": [
       "<div>\n",
       "<style scoped>\n",
       "    .dataframe tbody tr th:only-of-type {\n",
       "        vertical-align: middle;\n",
       "    }\n",
       "\n",
       "    .dataframe tbody tr th {\n",
       "        vertical-align: top;\n",
       "    }\n",
       "\n",
       "    .dataframe thead th {\n",
       "        text-align: right;\n",
       "    }\n",
       "</style>\n",
       "<table border=\"1\" class=\"dataframe\">\n",
       "  <thead>\n",
       "    <tr style=\"text-align: right;\">\n",
       "      <th></th>\n",
       "      <th>A</th>\n",
       "      <th>B</th>\n",
       "    </tr>\n",
       "  </thead>\n",
       "  <tbody>\n",
       "    <tr>\n",
       "      <th>2025-01-01</th>\n",
       "      <td>14</td>\n",
       "      <td>30</td>\n",
       "    </tr>\n",
       "    <tr>\n",
       "      <th>2025-01-05</th>\n",
       "      <td>44</td>\n",
       "      <td>38</td>\n",
       "    </tr>\n",
       "    <tr>\n",
       "      <th>2025-01-09</th>\n",
       "      <td>30</td>\n",
       "      <td>21</td>\n",
       "    </tr>\n",
       "    <tr>\n",
       "      <th>2025-01-13</th>\n",
       "      <td>26</td>\n",
       "      <td>11</td>\n",
       "    </tr>\n",
       "  </tbody>\n",
       "</table>\n",
       "</div>"
      ],
      "text/plain": [
       "             A   B\n",
       "2025-01-01  14  30\n",
       "2025-01-05  44  38\n",
       "2025-01-09  30  21\n",
       "2025-01-13  26  11"
      ]
     },
     "execution_count": 380,
     "metadata": {},
     "output_type": "execute_result"
    }
   ],
   "source": [
    "date_data[[\"A\",\"B\"]]"
   ]
  },
  {
   "cell_type": "code",
   "execution_count": 381,
   "id": "571655db",
   "metadata": {},
   "outputs": [
    {
     "data": {
      "text/plain": [
       "A    14\n",
       "B    30\n",
       "C    28\n",
       "D    31\n",
       "Name: 2025-01-01 00:00:00, dtype: int32"
      ]
     },
     "execution_count": 381,
     "metadata": {},
     "output_type": "execute_result"
    }
   ],
   "source": [
    "date_data.loc[\"2025-01-01\"]"
   ]
  },
  {
   "cell_type": "code",
   "execution_count": 382,
   "id": "4d508e1e",
   "metadata": {},
   "outputs": [
    {
     "data": {
      "text/plain": [
       "A    14\n",
       "B    30\n",
       "C    28\n",
       "D    31\n",
       "Name: 2025-01-01 00:00:00, dtype: int32"
      ]
     },
     "execution_count": 382,
     "metadata": {},
     "output_type": "execute_result"
    }
   ],
   "source": [
    "date_data.iloc[0]"
   ]
  },
  {
   "cell_type": "code",
   "execution_count": 383,
   "id": "c57e8540",
   "metadata": {},
   "outputs": [
    {
     "data": {
      "text/html": [
       "<div>\n",
       "<style scoped>\n",
       "    .dataframe tbody tr th:only-of-type {\n",
       "        vertical-align: middle;\n",
       "    }\n",
       "\n",
       "    .dataframe tbody tr th {\n",
       "        vertical-align: top;\n",
       "    }\n",
       "\n",
       "    .dataframe thead th {\n",
       "        text-align: right;\n",
       "    }\n",
       "</style>\n",
       "<table border=\"1\" class=\"dataframe\">\n",
       "  <thead>\n",
       "    <tr style=\"text-align: right;\">\n",
       "      <th></th>\n",
       "      <th>A</th>\n",
       "      <th>B</th>\n",
       "      <th>C</th>\n",
       "      <th>D</th>\n",
       "    </tr>\n",
       "  </thead>\n",
       "  <tbody>\n",
       "    <tr>\n",
       "      <th>2025-01-01</th>\n",
       "      <td>14</td>\n",
       "      <td>30</td>\n",
       "      <td>28</td>\n",
       "      <td>31</td>\n",
       "    </tr>\n",
       "    <tr>\n",
       "      <th>2025-01-05</th>\n",
       "      <td>44</td>\n",
       "      <td>38</td>\n",
       "      <td>41</td>\n",
       "      <td>30</td>\n",
       "    </tr>\n",
       "    <tr>\n",
       "      <th>2025-01-09</th>\n",
       "      <td>30</td>\n",
       "      <td>21</td>\n",
       "      <td>42</td>\n",
       "      <td>22</td>\n",
       "    </tr>\n",
       "  </tbody>\n",
       "</table>\n",
       "</div>"
      ],
      "text/plain": [
       "             A   B   C   D\n",
       "2025-01-01  14  30  28  31\n",
       "2025-01-05  44  38  41  30\n",
       "2025-01-09  30  21  42  22"
      ]
     },
     "execution_count": 383,
     "metadata": {},
     "output_type": "execute_result"
    }
   ],
   "source": [
    "date_data.iloc[0:3]"
   ]
  },
  {
   "cell_type": "code",
   "execution_count": 384,
   "id": "ecf6e86f",
   "metadata": {},
   "outputs": [
    {
     "data": {
      "text/html": [
       "<div>\n",
       "<style scoped>\n",
       "    .dataframe tbody tr th:only-of-type {\n",
       "        vertical-align: middle;\n",
       "    }\n",
       "\n",
       "    .dataframe tbody tr th {\n",
       "        vertical-align: top;\n",
       "    }\n",
       "\n",
       "    .dataframe thead th {\n",
       "        text-align: right;\n",
       "    }\n",
       "</style>\n",
       "<table border=\"1\" class=\"dataframe\">\n",
       "  <thead>\n",
       "    <tr style=\"text-align: right;\">\n",
       "      <th></th>\n",
       "      <th>A</th>\n",
       "      <th>B</th>\n",
       "    </tr>\n",
       "  </thead>\n",
       "  <tbody>\n",
       "    <tr>\n",
       "      <th>2025-01-01</th>\n",
       "      <td>14</td>\n",
       "      <td>30</td>\n",
       "    </tr>\n",
       "    <tr>\n",
       "      <th>2025-01-05</th>\n",
       "      <td>44</td>\n",
       "      <td>38</td>\n",
       "    </tr>\n",
       "    <tr>\n",
       "      <th>2025-01-09</th>\n",
       "      <td>30</td>\n",
       "      <td>21</td>\n",
       "    </tr>\n",
       "  </tbody>\n",
       "</table>\n",
       "</div>"
      ],
      "text/plain": [
       "             A   B\n",
       "2025-01-01  14  30\n",
       "2025-01-05  44  38\n",
       "2025-01-09  30  21"
      ]
     },
     "execution_count": 384,
     "metadata": {},
     "output_type": "execute_result"
    }
   ],
   "source": [
    "date_data.iloc[0:3,0:2]       #[satır:satır,sütun:sütun]"
   ]
  },
  {
   "cell_type": "code",
   "execution_count": 385,
   "id": "1f26c23c",
   "metadata": {},
   "outputs": [
    {
     "data": {
      "text/html": [
       "<div>\n",
       "<style scoped>\n",
       "    .dataframe tbody tr th:only-of-type {\n",
       "        vertical-align: middle;\n",
       "    }\n",
       "\n",
       "    .dataframe tbody tr th {\n",
       "        vertical-align: top;\n",
       "    }\n",
       "\n",
       "    .dataframe thead th {\n",
       "        text-align: right;\n",
       "    }\n",
       "</style>\n",
       "<table border=\"1\" class=\"dataframe\">\n",
       "  <thead>\n",
       "    <tr style=\"text-align: right;\">\n",
       "      <th></th>\n",
       "      <th>A</th>\n",
       "      <th>B</th>\n",
       "      <th>C</th>\n",
       "      <th>D</th>\n",
       "      <th>new_column</th>\n",
       "    </tr>\n",
       "  </thead>\n",
       "  <tbody>\n",
       "    <tr>\n",
       "      <th>2025-01-01</th>\n",
       "      <td>14</td>\n",
       "      <td>30</td>\n",
       "      <td>28</td>\n",
       "      <td>31</td>\n",
       "      <td>11</td>\n",
       "    </tr>\n",
       "    <tr>\n",
       "      <th>2025-01-05</th>\n",
       "      <td>44</td>\n",
       "      <td>38</td>\n",
       "      <td>41</td>\n",
       "      <td>30</td>\n",
       "      <td>11</td>\n",
       "    </tr>\n",
       "    <tr>\n",
       "      <th>2025-01-09</th>\n",
       "      <td>30</td>\n",
       "      <td>21</td>\n",
       "      <td>42</td>\n",
       "      <td>22</td>\n",
       "      <td>11</td>\n",
       "    </tr>\n",
       "    <tr>\n",
       "      <th>2025-01-13</th>\n",
       "      <td>26</td>\n",
       "      <td>11</td>\n",
       "      <td>26</td>\n",
       "      <td>16</td>\n",
       "      <td>11</td>\n",
       "    </tr>\n",
       "  </tbody>\n",
       "</table>\n",
       "</div>"
      ],
      "text/plain": [
       "             A   B   C   D  new_column\n",
       "2025-01-01  14  30  28  31          11\n",
       "2025-01-05  44  38  41  30          11\n",
       "2025-01-09  30  21  42  22          11\n",
       "2025-01-13  26  11  26  16          11"
      ]
     },
     "execution_count": 385,
     "metadata": {},
     "output_type": "execute_result"
    }
   ],
   "source": [
    "date_data[\"new_column\"]=11\n",
    "date_data"
   ]
  },
  {
   "cell_type": "code",
   "execution_count": 386,
   "id": "35c4850d",
   "metadata": {},
   "outputs": [
    {
     "data": {
      "text/html": [
       "<div>\n",
       "<style scoped>\n",
       "    .dataframe tbody tr th:only-of-type {\n",
       "        vertical-align: middle;\n",
       "    }\n",
       "\n",
       "    .dataframe tbody tr th {\n",
       "        vertical-align: top;\n",
       "    }\n",
       "\n",
       "    .dataframe thead th {\n",
       "        text-align: right;\n",
       "    }\n",
       "</style>\n",
       "<table border=\"1\" class=\"dataframe\">\n",
       "  <thead>\n",
       "    <tr style=\"text-align: right;\">\n",
       "      <th></th>\n",
       "      <th>A</th>\n",
       "      <th>B</th>\n",
       "      <th>C</th>\n",
       "      <th>D</th>\n",
       "    </tr>\n",
       "  </thead>\n",
       "  <tbody>\n",
       "    <tr>\n",
       "      <th>2025-01-01</th>\n",
       "      <td>14</td>\n",
       "      <td>30</td>\n",
       "      <td>28</td>\n",
       "      <td>31</td>\n",
       "    </tr>\n",
       "    <tr>\n",
       "      <th>2025-01-05</th>\n",
       "      <td>44</td>\n",
       "      <td>38</td>\n",
       "      <td>41</td>\n",
       "      <td>30</td>\n",
       "    </tr>\n",
       "    <tr>\n",
       "      <th>2025-01-09</th>\n",
       "      <td>30</td>\n",
       "      <td>21</td>\n",
       "      <td>42</td>\n",
       "      <td>22</td>\n",
       "    </tr>\n",
       "    <tr>\n",
       "      <th>2025-01-13</th>\n",
       "      <td>26</td>\n",
       "      <td>11</td>\n",
       "      <td>26</td>\n",
       "      <td>16</td>\n",
       "    </tr>\n",
       "  </tbody>\n",
       "</table>\n",
       "</div>"
      ],
      "text/plain": [
       "             A   B   C   D\n",
       "2025-01-01  14  30  28  31\n",
       "2025-01-05  44  38  41  30\n",
       "2025-01-09  30  21  42  22\n",
       "2025-01-13  26  11  26  16"
      ]
     },
     "execution_count": 386,
     "metadata": {},
     "output_type": "execute_result"
    }
   ],
   "source": [
    "date_data.drop(\"new_column\",axis=1)   #inplace true yapmazsak date_data da hala new_column var olmaya devam eder\n"
   ]
  },
  {
   "cell_type": "code",
   "execution_count": 387,
   "id": "af7682a9",
   "metadata": {},
   "outputs": [],
   "source": [
    "date_data.drop(\"2025-01-01\",axis=0,inplace=True) #2. kez calistirirsak hata aliriz cünkü verilen satir yok"
   ]
  },
  {
   "cell_type": "code",
   "execution_count": 388,
   "id": "dbc571a5",
   "metadata": {},
   "outputs": [
    {
     "data": {
      "text/html": [
       "<div>\n",
       "<style scoped>\n",
       "    .dataframe tbody tr th:only-of-type {\n",
       "        vertical-align: middle;\n",
       "    }\n",
       "\n",
       "    .dataframe tbody tr th {\n",
       "        vertical-align: top;\n",
       "    }\n",
       "\n",
       "    .dataframe thead th {\n",
       "        text-align: right;\n",
       "    }\n",
       "</style>\n",
       "<table border=\"1\" class=\"dataframe\">\n",
       "  <thead>\n",
       "    <tr style=\"text-align: right;\">\n",
       "      <th></th>\n",
       "      <th>A</th>\n",
       "      <th>B</th>\n",
       "      <th>C</th>\n",
       "      <th>D</th>\n",
       "      <th>new_column</th>\n",
       "    </tr>\n",
       "  </thead>\n",
       "  <tbody>\n",
       "    <tr>\n",
       "      <th>2025-01-05</th>\n",
       "      <td>44</td>\n",
       "      <td>38</td>\n",
       "      <td>41</td>\n",
       "      <td>30</td>\n",
       "      <td>11</td>\n",
       "    </tr>\n",
       "    <tr>\n",
       "      <th>2025-01-09</th>\n",
       "      <td>30</td>\n",
       "      <td>21</td>\n",
       "      <td>42</td>\n",
       "      <td>22</td>\n",
       "      <td>11</td>\n",
       "    </tr>\n",
       "    <tr>\n",
       "      <th>2025-01-13</th>\n",
       "      <td>26</td>\n",
       "      <td>11</td>\n",
       "      <td>26</td>\n",
       "      <td>16</td>\n",
       "      <td>11</td>\n",
       "    </tr>\n",
       "  </tbody>\n",
       "</table>\n",
       "</div>"
      ],
      "text/plain": [
       "             A   B   C   D  new_column\n",
       "2025-01-05  44  38  41  30          11\n",
       "2025-01-09  30  21  42  22          11\n",
       "2025-01-13  26  11  26  16          11"
      ]
     },
     "execution_count": 388,
     "metadata": {},
     "output_type": "execute_result"
    }
   ],
   "source": [
    "date_data"
   ]
  },
  {
   "cell_type": "code",
   "execution_count": 389,
   "id": "4834427d",
   "metadata": {},
   "outputs": [
    {
     "data": {
      "text/html": [
       "<div>\n",
       "<style scoped>\n",
       "    .dataframe tbody tr th:only-of-type {\n",
       "        vertical-align: middle;\n",
       "    }\n",
       "\n",
       "    .dataframe tbody tr th {\n",
       "        vertical-align: top;\n",
       "    }\n",
       "\n",
       "    .dataframe thead th {\n",
       "        text-align: right;\n",
       "    }\n",
       "</style>\n",
       "<table border=\"1\" class=\"dataframe\">\n",
       "  <thead>\n",
       "    <tr style=\"text-align: right;\">\n",
       "      <th></th>\n",
       "      <th>A</th>\n",
       "      <th>B</th>\n",
       "      <th>C</th>\n",
       "      <th>D</th>\n",
       "      <th>new_column</th>\n",
       "    </tr>\n",
       "  </thead>\n",
       "  <tbody>\n",
       "    <tr>\n",
       "      <th>2025-01-05 00:00:00</th>\n",
       "      <td>44</td>\n",
       "      <td>38</td>\n",
       "      <td>41</td>\n",
       "      <td>30</td>\n",
       "      <td>11</td>\n",
       "    </tr>\n",
       "    <tr>\n",
       "      <th>2025-01-09 00:00:00</th>\n",
       "      <td>30</td>\n",
       "      <td>21</td>\n",
       "      <td>42</td>\n",
       "      <td>22</td>\n",
       "      <td>11</td>\n",
       "    </tr>\n",
       "    <tr>\n",
       "      <th>2025-01-13 00:00:00</th>\n",
       "      <td>26</td>\n",
       "      <td>11</td>\n",
       "      <td>26</td>\n",
       "      <td>16</td>\n",
       "      <td>11</td>\n",
       "    </tr>\n",
       "    <tr>\n",
       "      <th>2025-01-01</th>\n",
       "      <td>25</td>\n",
       "      <td>35</td>\n",
       "      <td>45</td>\n",
       "      <td>20</td>\n",
       "      <td>11</td>\n",
       "    </tr>\n",
       "  </tbody>\n",
       "</table>\n",
       "</div>"
      ],
      "text/plain": [
       "                      A   B   C   D  new_column\n",
       "2025-01-05 00:00:00  44  38  41  30          11\n",
       "2025-01-09 00:00:00  30  21  42  22          11\n",
       "2025-01-13 00:00:00  26  11  26  16          11\n",
       "2025-01-01           25  35  45  20          11"
      ]
     },
     "execution_count": 389,
     "metadata": {},
     "output_type": "execute_result"
    }
   ],
   "source": [
    "new_row=pd.DataFrame([[25, 35, 45, 20,11]],columns=[\"A\", \"B\", \"C\", \"D\",\"new_column\"],index=[\"2025-01-01\"])\n",
    "date_data=pd.concat([date_data, new_row])\n",
    "date_data"
   ]
  },
  {
   "cell_type": "code",
   "execution_count": 390,
   "id": "630802e2",
   "metadata": {},
   "outputs": [
    {
     "data": {
      "text/html": [
       "<div>\n",
       "<style scoped>\n",
       "    .dataframe tbody tr th:only-of-type {\n",
       "        vertical-align: middle;\n",
       "    }\n",
       "\n",
       "    .dataframe tbody tr th {\n",
       "        vertical-align: top;\n",
       "    }\n",
       "\n",
       "    .dataframe thead th {\n",
       "        text-align: right;\n",
       "    }\n",
       "</style>\n",
       "<table border=\"1\" class=\"dataframe\">\n",
       "  <thead>\n",
       "    <tr style=\"text-align: right;\">\n",
       "      <th></th>\n",
       "      <th>A</th>\n",
       "      <th>B</th>\n",
       "      <th>C</th>\n",
       "      <th>D</th>\n",
       "      <th>new_column</th>\n",
       "    </tr>\n",
       "  </thead>\n",
       "  <tbody>\n",
       "    <tr>\n",
       "      <th>2025-01-05 00:00:00</th>\n",
       "      <td>44</td>\n",
       "      <td>38</td>\n",
       "      <td>41</td>\n",
       "      <td>30</td>\n",
       "      <td>11</td>\n",
       "    </tr>\n",
       "    <tr>\n",
       "      <th>2025-01-09 00:00:00</th>\n",
       "      <td>30</td>\n",
       "      <td>21</td>\n",
       "      <td>42</td>\n",
       "      <td>22</td>\n",
       "      <td>11</td>\n",
       "    </tr>\n",
       "    <tr>\n",
       "      <th>2025-01-01</th>\n",
       "      <td>25</td>\n",
       "      <td>35</td>\n",
       "      <td>45</td>\n",
       "      <td>20</td>\n",
       "      <td>11</td>\n",
       "    </tr>\n",
       "  </tbody>\n",
       "</table>\n",
       "</div>"
      ],
      "text/plain": [
       "                      A   B   C   D  new_column\n",
       "2025-01-05 00:00:00  44  38  41  30          11\n",
       "2025-01-09 00:00:00  30  21  42  22          11\n",
       "2025-01-01           25  35  45  20          11"
      ]
     },
     "execution_count": 390,
     "metadata": {},
     "output_type": "execute_result"
    }
   ],
   "source": [
    "date_data[date_data[\"B\"]>13]"
   ]
  },
  {
   "cell_type": "code",
   "execution_count": 391,
   "id": "504f42d5",
   "metadata": {},
   "outputs": [
    {
     "data": {
      "text/html": [
       "<div>\n",
       "<style scoped>\n",
       "    .dataframe tbody tr th:only-of-type {\n",
       "        vertical-align: middle;\n",
       "    }\n",
       "\n",
       "    .dataframe tbody tr th {\n",
       "        vertical-align: top;\n",
       "    }\n",
       "\n",
       "    .dataframe thead th {\n",
       "        text-align: right;\n",
       "    }\n",
       "</style>\n",
       "<table border=\"1\" class=\"dataframe\">\n",
       "  <thead>\n",
       "    <tr style=\"text-align: right;\">\n",
       "      <th></th>\n",
       "      <th>index</th>\n",
       "      <th>A</th>\n",
       "      <th>B</th>\n",
       "      <th>C</th>\n",
       "      <th>D</th>\n",
       "      <th>new_column</th>\n",
       "    </tr>\n",
       "  </thead>\n",
       "  <tbody>\n",
       "    <tr>\n",
       "      <th>0</th>\n",
       "      <td>2025-01-05 00:00:00</td>\n",
       "      <td>44</td>\n",
       "      <td>38</td>\n",
       "      <td>41</td>\n",
       "      <td>30</td>\n",
       "      <td>11</td>\n",
       "    </tr>\n",
       "    <tr>\n",
       "      <th>1</th>\n",
       "      <td>2025-01-09 00:00:00</td>\n",
       "      <td>30</td>\n",
       "      <td>21</td>\n",
       "      <td>42</td>\n",
       "      <td>22</td>\n",
       "      <td>11</td>\n",
       "    </tr>\n",
       "    <tr>\n",
       "      <th>2</th>\n",
       "      <td>2025-01-13 00:00:00</td>\n",
       "      <td>26</td>\n",
       "      <td>11</td>\n",
       "      <td>26</td>\n",
       "      <td>16</td>\n",
       "      <td>11</td>\n",
       "    </tr>\n",
       "    <tr>\n",
       "      <th>3</th>\n",
       "      <td>2025-01-01</td>\n",
       "      <td>25</td>\n",
       "      <td>35</td>\n",
       "      <td>45</td>\n",
       "      <td>20</td>\n",
       "      <td>11</td>\n",
       "    </tr>\n",
       "  </tbody>\n",
       "</table>\n",
       "</div>"
      ],
      "text/plain": [
       "                 index   A   B   C   D  new_column\n",
       "0  2025-01-05 00:00:00  44  38  41  30          11\n",
       "1  2025-01-09 00:00:00  30  21  42  22          11\n",
       "2  2025-01-13 00:00:00  26  11  26  16          11\n",
       "3           2025-01-01  25  35  45  20          11"
      ]
     },
     "execution_count": 391,
     "metadata": {},
     "output_type": "execute_result"
    }
   ],
   "source": [
    "date_data.reset_index()"
   ]
  },
  {
   "cell_type": "code",
   "execution_count": 392,
   "id": "92c1d4dd",
   "metadata": {},
   "outputs": [
    {
     "data": {
      "text/html": [
       "<div>\n",
       "<style scoped>\n",
       "    .dataframe tbody tr th:only-of-type {\n",
       "        vertical-align: middle;\n",
       "    }\n",
       "\n",
       "    .dataframe tbody tr th {\n",
       "        vertical-align: top;\n",
       "    }\n",
       "\n",
       "    .dataframe thead th {\n",
       "        text-align: right;\n",
       "    }\n",
       "</style>\n",
       "<table border=\"1\" class=\"dataframe\">\n",
       "  <thead>\n",
       "    <tr style=\"text-align: right;\">\n",
       "      <th></th>\n",
       "      <th>A</th>\n",
       "      <th>B</th>\n",
       "      <th>C</th>\n",
       "      <th>D</th>\n",
       "      <th>new_column</th>\n",
       "    </tr>\n",
       "  </thead>\n",
       "  <tbody>\n",
       "    <tr>\n",
       "      <th>2025-01-05 00:00:00</th>\n",
       "      <td>44</td>\n",
       "      <td>38</td>\n",
       "      <td>41</td>\n",
       "      <td>30</td>\n",
       "      <td>11</td>\n",
       "    </tr>\n",
       "    <tr>\n",
       "      <th>2025-01-09 00:00:00</th>\n",
       "      <td>30</td>\n",
       "      <td>21</td>\n",
       "      <td>42</td>\n",
       "      <td>22</td>\n",
       "      <td>11</td>\n",
       "    </tr>\n",
       "    <tr>\n",
       "      <th>2025-01-13 00:00:00</th>\n",
       "      <td>26</td>\n",
       "      <td>11</td>\n",
       "      <td>26</td>\n",
       "      <td>16</td>\n",
       "      <td>11</td>\n",
       "    </tr>\n",
       "    <tr>\n",
       "      <th>2025-01-01</th>\n",
       "      <td>25</td>\n",
       "      <td>35</td>\n",
       "      <td>45</td>\n",
       "      <td>20</td>\n",
       "      <td>11</td>\n",
       "    </tr>\n",
       "  </tbody>\n",
       "</table>\n",
       "</div>"
      ],
      "text/plain": [
       "                      A   B   C   D  new_column\n",
       "2025-01-05 00:00:00  44  38  41  30          11\n",
       "2025-01-09 00:00:00  30  21  42  22          11\n",
       "2025-01-13 00:00:00  26  11  26  16          11\n",
       "2025-01-01           25  35  45  20          11"
      ]
     },
     "execution_count": 392,
     "metadata": {},
     "output_type": "execute_result"
    }
   ],
   "source": [
    "date_data"
   ]
  },
  {
   "cell_type": "code",
   "execution_count": 393,
   "id": "7f97f5a9",
   "metadata": {},
   "outputs": [
    {
     "data": {
      "text/html": [
       "<div>\n",
       "<style scoped>\n",
       "    .dataframe tbody tr th:only-of-type {\n",
       "        vertical-align: middle;\n",
       "    }\n",
       "\n",
       "    .dataframe tbody tr th {\n",
       "        vertical-align: top;\n",
       "    }\n",
       "\n",
       "    .dataframe thead th {\n",
       "        text-align: right;\n",
       "    }\n",
       "</style>\n",
       "<table border=\"1\" class=\"dataframe\">\n",
       "  <thead>\n",
       "    <tr style=\"text-align: right;\">\n",
       "      <th></th>\n",
       "      <th>Salary</th>\n",
       "      <th>performance</th>\n",
       "      <th>prim</th>\n",
       "      <th>mesai</th>\n",
       "    </tr>\n",
       "  </thead>\n",
       "  <tbody>\n",
       "    <tr>\n",
       "      <th>Furkan</th>\n",
       "      <td>0.729403</td>\n",
       "      <td>0.481845</td>\n",
       "      <td>0.433026</td>\n",
       "      <td>0.314582</td>\n",
       "    </tr>\n",
       "    <tr>\n",
       "      <th>Can</th>\n",
       "      <td>0.445874</td>\n",
       "      <td>0.452143</td>\n",
       "      <td>0.592867</td>\n",
       "      <td>0.265525</td>\n",
       "    </tr>\n",
       "    <tr>\n",
       "      <th>Sevim</th>\n",
       "      <td>0.797608</td>\n",
       "      <td>0.929812</td>\n",
       "      <td>0.433139</td>\n",
       "      <td>0.850683</td>\n",
       "    </tr>\n",
       "    <tr>\n",
       "      <th>Umay</th>\n",
       "      <td>0.635382</td>\n",
       "      <td>0.596884</td>\n",
       "      <td>0.120600</td>\n",
       "      <td>0.846510</td>\n",
       "    </tr>\n",
       "    <tr>\n",
       "      <th>Gökçe</th>\n",
       "      <td>0.618414</td>\n",
       "      <td>0.163436</td>\n",
       "      <td>0.362740</td>\n",
       "      <td>0.414434</td>\n",
       "    </tr>\n",
       "    <tr>\n",
       "      <th>Almila</th>\n",
       "      <td>0.743597</td>\n",
       "      <td>0.503880</td>\n",
       "      <td>0.997048</td>\n",
       "      <td>0.962978</td>\n",
       "    </tr>\n",
       "  </tbody>\n",
       "</table>\n",
       "</div>"
      ],
      "text/plain": [
       "          Salary  performance      prim     mesai\n",
       "Furkan  0.729403     0.481845  0.433026  0.314582\n",
       "Can     0.445874     0.452143  0.592867  0.265525\n",
       "Sevim   0.797608     0.929812  0.433139  0.850683\n",
       "Umay    0.635382     0.596884  0.120600  0.846510\n",
       "Gökçe   0.618414     0.163436  0.362740  0.414434\n",
       "Almila  0.743597     0.503880  0.997048  0.962978"
      ]
     },
     "execution_count": 393,
     "metadata": {},
     "output_type": "execute_result"
    }
   ],
   "source": [
    "datas=np.random.random(24).reshape(6,4)\n",
    "new_df=pd.DataFrame(data=datas,index=[\"Furkan\",\"Can\",\"Sevim\",\"Umay\",\"Gökçe\",\"Almila\"],columns=[\"Salary\",\"performance\",\"prim\",\"mesai\"])\n",
    "new_df"
   ]
  },
  {
   "cell_type": "code",
   "execution_count": 394,
   "id": "f7e449ac",
   "metadata": {},
   "outputs": [
    {
     "data": {
      "text/html": [
       "<div>\n",
       "<style scoped>\n",
       "    .dataframe tbody tr th:only-of-type {\n",
       "        vertical-align: middle;\n",
       "    }\n",
       "\n",
       "    .dataframe tbody tr th {\n",
       "        vertical-align: top;\n",
       "    }\n",
       "\n",
       "    .dataframe thead th {\n",
       "        text-align: right;\n",
       "    }\n",
       "</style>\n",
       "<table border=\"1\" class=\"dataframe\">\n",
       "  <thead>\n",
       "    <tr style=\"text-align: right;\">\n",
       "      <th></th>\n",
       "      <th></th>\n",
       "      <th>Salary</th>\n",
       "      <th>performance</th>\n",
       "      <th>prim</th>\n",
       "      <th>mesai</th>\n",
       "    </tr>\n",
       "    <tr>\n",
       "      <th>görev</th>\n",
       "      <th>isim</th>\n",
       "      <th></th>\n",
       "      <th></th>\n",
       "      <th></th>\n",
       "      <th></th>\n",
       "    </tr>\n",
       "  </thead>\n",
       "  <tbody>\n",
       "    <tr>\n",
       "      <th rowspan=\"3\" valign=\"top\">Yönetim</th>\n",
       "      <th>Furkan</th>\n",
       "      <td>0.729403</td>\n",
       "      <td>0.481845</td>\n",
       "      <td>0.433026</td>\n",
       "      <td>0.314582</td>\n",
       "    </tr>\n",
       "    <tr>\n",
       "      <th>Can</th>\n",
       "      <td>0.445874</td>\n",
       "      <td>0.452143</td>\n",
       "      <td>0.592867</td>\n",
       "      <td>0.265525</td>\n",
       "    </tr>\n",
       "    <tr>\n",
       "      <th>Sevim</th>\n",
       "      <td>0.797608</td>\n",
       "      <td>0.929812</td>\n",
       "      <td>0.433139</td>\n",
       "      <td>0.850683</td>\n",
       "    </tr>\n",
       "    <tr>\n",
       "      <th rowspan=\"3\" valign=\"top\">Calisan</th>\n",
       "      <th>Umay</th>\n",
       "      <td>0.635382</td>\n",
       "      <td>0.596884</td>\n",
       "      <td>0.120600</td>\n",
       "      <td>0.846510</td>\n",
       "    </tr>\n",
       "    <tr>\n",
       "      <th>Gökçe</th>\n",
       "      <td>0.618414</td>\n",
       "      <td>0.163436</td>\n",
       "      <td>0.362740</td>\n",
       "      <td>0.414434</td>\n",
       "    </tr>\n",
       "    <tr>\n",
       "      <th>Almila</th>\n",
       "      <td>0.743597</td>\n",
       "      <td>0.503880</td>\n",
       "      <td>0.997048</td>\n",
       "      <td>0.962978</td>\n",
       "    </tr>\n",
       "  </tbody>\n",
       "</table>\n",
       "</div>"
      ],
      "text/plain": [
       "                  Salary  performance      prim     mesai\n",
       "görev   isim                                             \n",
       "Yönetim Furkan  0.729403     0.481845  0.433026  0.314582\n",
       "        Can     0.445874     0.452143  0.592867  0.265525\n",
       "        Sevim   0.797608     0.929812  0.433139  0.850683\n",
       "Calisan Umay    0.635382     0.596884  0.120600  0.846510\n",
       "        Gökçe   0.618414     0.163436  0.362740  0.414434\n",
       "        Almila  0.743597     0.503880  0.997048  0.962978"
      ]
     },
     "execution_count": 394,
     "metadata": {},
     "output_type": "execute_result"
    }
   ],
   "source": [
    "gruplar=[\"Yönetim\",\"Yönetim\",\"Yönetim\",\"Calisan\",\"Calisan\",\"Calisan\"]\n",
    "new_df.index=pd.MultiIndex.from_arrays([gruplar,new_df.index],names=[\"görev\",\"isim\"])\n",
    "new_df"
   ]
  },
  {
   "cell_type": "code",
   "execution_count": 395,
   "id": "9b9ec3bc",
   "metadata": {},
   "outputs": [
    {
     "data": {
      "text/html": [
       "<div>\n",
       "<style scoped>\n",
       "    .dataframe tbody tr th:only-of-type {\n",
       "        vertical-align: middle;\n",
       "    }\n",
       "\n",
       "    .dataframe tbody tr th {\n",
       "        vertical-align: top;\n",
       "    }\n",
       "\n",
       "    .dataframe thead th {\n",
       "        text-align: right;\n",
       "    }\n",
       "</style>\n",
       "<table border=\"1\" class=\"dataframe\">\n",
       "  <thead>\n",
       "    <tr style=\"text-align: right;\">\n",
       "      <th></th>\n",
       "      <th>Salary</th>\n",
       "      <th>performance</th>\n",
       "      <th>prim</th>\n",
       "      <th>mesai</th>\n",
       "    </tr>\n",
       "    <tr>\n",
       "      <th>isim</th>\n",
       "      <th></th>\n",
       "      <th></th>\n",
       "      <th></th>\n",
       "      <th></th>\n",
       "    </tr>\n",
       "  </thead>\n",
       "  <tbody>\n",
       "    <tr>\n",
       "      <th>Furkan</th>\n",
       "      <td>0.729403</td>\n",
       "      <td>0.481845</td>\n",
       "      <td>0.433026</td>\n",
       "      <td>0.314582</td>\n",
       "    </tr>\n",
       "    <tr>\n",
       "      <th>Can</th>\n",
       "      <td>0.445874</td>\n",
       "      <td>0.452143</td>\n",
       "      <td>0.592867</td>\n",
       "      <td>0.265525</td>\n",
       "    </tr>\n",
       "    <tr>\n",
       "      <th>Sevim</th>\n",
       "      <td>0.797608</td>\n",
       "      <td>0.929812</td>\n",
       "      <td>0.433139</td>\n",
       "      <td>0.850683</td>\n",
       "    </tr>\n",
       "    <tr>\n",
       "      <th>Umay</th>\n",
       "      <td>0.635382</td>\n",
       "      <td>0.596884</td>\n",
       "      <td>0.120600</td>\n",
       "      <td>0.846510</td>\n",
       "    </tr>\n",
       "    <tr>\n",
       "      <th>Gökçe</th>\n",
       "      <td>0.618414</td>\n",
       "      <td>0.163436</td>\n",
       "      <td>0.362740</td>\n",
       "      <td>0.414434</td>\n",
       "    </tr>\n",
       "    <tr>\n",
       "      <th>Almila</th>\n",
       "      <td>0.743597</td>\n",
       "      <td>0.503880</td>\n",
       "      <td>0.997048</td>\n",
       "      <td>0.962978</td>\n",
       "    </tr>\n",
       "  </tbody>\n",
       "</table>\n",
       "</div>"
      ],
      "text/plain": [
       "          Salary  performance      prim     mesai\n",
       "isim                                             \n",
       "Furkan  0.729403     0.481845  0.433026  0.314582\n",
       "Can     0.445874     0.452143  0.592867  0.265525\n",
       "Sevim   0.797608     0.929812  0.433139  0.850683\n",
       "Umay    0.635382     0.596884  0.120600  0.846510\n",
       "Gökçe   0.618414     0.163436  0.362740  0.414434\n",
       "Almila  0.743597     0.503880  0.997048  0.962978"
      ]
     },
     "execution_count": 395,
     "metadata": {},
     "output_type": "execute_result"
    }
   ],
   "source": [
    "new_df.index = new_df.index.droplevel(\"görev\")\n",
    "new_df"
   ]
  },
  {
   "cell_type": "code",
   "execution_count": 396,
   "id": "69dcf873",
   "metadata": {},
   "outputs": [
    {
     "data": {
      "text/html": [
       "<div>\n",
       "<style scoped>\n",
       "    .dataframe tbody tr th:only-of-type {\n",
       "        vertical-align: middle;\n",
       "    }\n",
       "\n",
       "    .dataframe tbody tr th {\n",
       "        vertical-align: top;\n",
       "    }\n",
       "\n",
       "    .dataframe thead th {\n",
       "        text-align: right;\n",
       "    }\n",
       "</style>\n",
       "<table border=\"1\" class=\"dataframe\">\n",
       "  <thead>\n",
       "    <tr style=\"text-align: right;\">\n",
       "      <th></th>\n",
       "      <th></th>\n",
       "      <th>Salary</th>\n",
       "      <th>performance</th>\n",
       "      <th>prim</th>\n",
       "      <th>mesai</th>\n",
       "    </tr>\n",
       "  </thead>\n",
       "  <tbody>\n",
       "    <tr>\n",
       "      <th rowspan=\"3\" valign=\"top\">Yönetim</th>\n",
       "      <th>Furkan</th>\n",
       "      <td>0.729403</td>\n",
       "      <td>0.481845</td>\n",
       "      <td>0.433026</td>\n",
       "      <td>0.314582</td>\n",
       "    </tr>\n",
       "    <tr>\n",
       "      <th>Can</th>\n",
       "      <td>0.445874</td>\n",
       "      <td>0.452143</td>\n",
       "      <td>0.592867</td>\n",
       "      <td>0.265525</td>\n",
       "    </tr>\n",
       "    <tr>\n",
       "      <th>Sevim</th>\n",
       "      <td>0.797608</td>\n",
       "      <td>0.929812</td>\n",
       "      <td>0.433139</td>\n",
       "      <td>0.850683</td>\n",
       "    </tr>\n",
       "    <tr>\n",
       "      <th rowspan=\"3\" valign=\"top\">Calisan</th>\n",
       "      <th>Umay</th>\n",
       "      <td>0.635382</td>\n",
       "      <td>0.596884</td>\n",
       "      <td>0.120600</td>\n",
       "      <td>0.846510</td>\n",
       "    </tr>\n",
       "    <tr>\n",
       "      <th>Gökçe</th>\n",
       "      <td>0.618414</td>\n",
       "      <td>0.163436</td>\n",
       "      <td>0.362740</td>\n",
       "      <td>0.414434</td>\n",
       "    </tr>\n",
       "    <tr>\n",
       "      <th>Almila</th>\n",
       "      <td>0.743597</td>\n",
       "      <td>0.503880</td>\n",
       "      <td>0.997048</td>\n",
       "      <td>0.962978</td>\n",
       "    </tr>\n",
       "  </tbody>\n",
       "</table>\n",
       "</div>"
      ],
      "text/plain": [
       "                  Salary  performance      prim     mesai\n",
       "Yönetim Furkan  0.729403     0.481845  0.433026  0.314582\n",
       "        Can     0.445874     0.452143  0.592867  0.265525\n",
       "        Sevim   0.797608     0.929812  0.433139  0.850683\n",
       "Calisan Umay    0.635382     0.596884  0.120600  0.846510\n",
       "        Gökçe   0.618414     0.163436  0.362740  0.414434\n",
       "        Almila  0.743597     0.503880  0.997048  0.962978"
      ]
     },
     "execution_count": 396,
     "metadata": {},
     "output_type": "execute_result"
    }
   ],
   "source": [
    "outer_index=[\"Yönetim\",\"Yönetim\",\"Yönetim\",\"Calisan\",\"Calisan\",\"Calisan\"]\n",
    "first_index=[\"Furkan\",\"Can\",\"Sevim\",\"Umay\",\"Gökçe\",\"Almila\"]\n",
    "zipped_index=list(zip(outer_index,first_index))\n",
    "zipped_index=pd.MultiIndex.from_tuples(zipped_index)\n",
    "new_df=pd.DataFrame(data=datas,index=zipped_index,columns=[\"Salary\",\"performance\",\"prim\",\"mesai\"])\n",
    "new_df"
   ]
  },
  {
   "cell_type": "code",
   "execution_count": null,
   "id": "27057e37",
   "metadata": {},
   "outputs": [
    {
     "data": {
      "text/html": [
       "<div>\n",
       "<style scoped>\n",
       "    .dataframe tbody tr th:only-of-type {\n",
       "        vertical-align: middle;\n",
       "    }\n",
       "\n",
       "    .dataframe tbody tr th {\n",
       "        vertical-align: top;\n",
       "    }\n",
       "\n",
       "    .dataframe thead th {\n",
       "        text-align: right;\n",
       "    }\n",
       "</style>\n",
       "<table border=\"1\" class=\"dataframe\">\n",
       "  <thead>\n",
       "    <tr style=\"text-align: right;\">\n",
       "      <th></th>\n",
       "      <th>Salary</th>\n",
       "      <th>performance</th>\n",
       "      <th>prim</th>\n",
       "      <th>mesai</th>\n",
       "    </tr>\n",
       "  </thead>\n",
       "  <tbody>\n",
       "    <tr>\n",
       "      <th>Furkan</th>\n",
       "      <td>0.729403</td>\n",
       "      <td>0.481845</td>\n",
       "      <td>0.433026</td>\n",
       "      <td>0.314582</td>\n",
       "    </tr>\n",
       "    <tr>\n",
       "      <th>Can</th>\n",
       "      <td>0.445874</td>\n",
       "      <td>0.452143</td>\n",
       "      <td>0.592867</td>\n",
       "      <td>0.265525</td>\n",
       "    </tr>\n",
       "    <tr>\n",
       "      <th>Sevim</th>\n",
       "      <td>0.797608</td>\n",
       "      <td>0.929812</td>\n",
       "      <td>0.433139</td>\n",
       "      <td>0.850683</td>\n",
       "    </tr>\n",
       "  </tbody>\n",
       "</table>\n",
       "</div>"
      ],
      "text/plain": [
       "          Salary  performance      prim     mesai\n",
       "Furkan  0.729403     0.481845  0.433026  0.314582\n",
       "Can     0.445874     0.452143  0.592867  0.265525\n",
       "Sevim   0.797608     0.929812  0.433139  0.850683"
      ]
     },
     "execution_count": 400,
     "metadata": {},
     "output_type": "execute_result"
    }
   ],
   "source": [
    "new_df.loc[\"Yönetim\"]   #df[yönetim] calısmıyor cünkü MultiIndex kullanıldığında \"Yönetim\" bir sütun değil, bir index seviyesinin değeridir.\n",
    "                        #df[yönetim] sütun arar "
   ]
  },
  {
   "cell_type": "code",
   "execution_count": 403,
   "id": "f65442e2",
   "metadata": {},
   "outputs": [
    {
     "data": {
      "text/plain": [
       "Furkan    0.433026\n",
       "Can       0.592867\n",
       "Sevim     0.433139\n",
       "Name: prim, dtype: float64"
      ]
     },
     "execution_count": 403,
     "metadata": {},
     "output_type": "execute_result"
    }
   ],
   "source": [
    "new_df.loc[\"Yönetim\"][\"prim\"]"
   ]
  },
  {
   "cell_type": "code",
   "execution_count": 404,
   "id": "20cfe8bd",
   "metadata": {},
   "outputs": [
    {
     "data": {
      "text/plain": [
       "Salary         0.729403\n",
       "performance    0.481845\n",
       "prim           0.433026\n",
       "mesai          0.314582\n",
       "Name: (Yönetim, Furkan), dtype: float64"
      ]
     },
     "execution_count": 404,
     "metadata": {},
     "output_type": "execute_result"
    }
   ],
   "source": [
    "new_df.loc[(\"Yönetim\",\"Furkan\")]"
   ]
  },
  {
   "cell_type": "code",
   "execution_count": 406,
   "id": "135eaa17",
   "metadata": {},
   "outputs": [
    {
     "data": {
      "text/html": [
       "<div>\n",
       "<style scoped>\n",
       "    .dataframe tbody tr th:only-of-type {\n",
       "        vertical-align: middle;\n",
       "    }\n",
       "\n",
       "    .dataframe tbody tr th {\n",
       "        vertical-align: top;\n",
       "    }\n",
       "\n",
       "    .dataframe thead th {\n",
       "        text-align: right;\n",
       "    }\n",
       "</style>\n",
       "<table border=\"1\" class=\"dataframe\">\n",
       "  <thead>\n",
       "    <tr style=\"text-align: right;\">\n",
       "      <th></th>\n",
       "      <th>Department</th>\n",
       "      <th>Employee</th>\n",
       "      <th>Salary</th>\n",
       "      <th>Experience</th>\n",
       "      <th>City</th>\n",
       "    </tr>\n",
       "  </thead>\n",
       "  <tbody>\n",
       "    <tr>\n",
       "      <th>0</th>\n",
       "      <td>Marketing</td>\n",
       "      <td>Emp_1</td>\n",
       "      <td>53483</td>\n",
       "      <td>1</td>\n",
       "      <td>New York</td>\n",
       "    </tr>\n",
       "    <tr>\n",
       "      <th>1</th>\n",
       "      <td>Sales</td>\n",
       "      <td>Emp_2</td>\n",
       "      <td>78555</td>\n",
       "      <td>8</td>\n",
       "      <td>Austin</td>\n",
       "    </tr>\n",
       "    <tr>\n",
       "      <th>2</th>\n",
       "      <td>Finance</td>\n",
       "      <td>Emp_3</td>\n",
       "      <td>47159</td>\n",
       "      <td>3</td>\n",
       "      <td>Austin</td>\n",
       "    </tr>\n",
       "    <tr>\n",
       "      <th>3</th>\n",
       "      <td>Sales</td>\n",
       "      <td>Emp_4</td>\n",
       "      <td>110077</td>\n",
       "      <td>3</td>\n",
       "      <td>San Francisco</td>\n",
       "    </tr>\n",
       "    <tr>\n",
       "      <th>4</th>\n",
       "      <td>Sales</td>\n",
       "      <td>Emp_5</td>\n",
       "      <td>65920</td>\n",
       "      <td>1</td>\n",
       "      <td>New York</td>\n",
       "    </tr>\n",
       "  </tbody>\n",
       "</table>\n",
       "</div>"
      ],
      "text/plain": [
       "  Department Employee  Salary  Experience           City\n",
       "0  Marketing    Emp_1   53483           1       New York\n",
       "1      Sales    Emp_2   78555           8         Austin\n",
       "2    Finance    Emp_3   47159           3         Austin\n",
       "3      Sales    Emp_4  110077           3  San Francisco\n",
       "4      Sales    Emp_5   65920           1       New York"
      ]
     },
     "execution_count": 406,
     "metadata": {},
     "output_type": "execute_result"
    }
   ],
   "source": [
    "employee=pd.read_csv(\"6-employee.csv\")\n",
    "employee.head(5)"
   ]
  },
  {
   "cell_type": "code",
   "execution_count": null,
   "id": "4d347cfd",
   "metadata": {},
   "outputs": [],
   "source": []
  }
 ],
 "metadata": {
  "kernelspec": {
   "display_name": "Python 3",
   "language": "python",
   "name": "python3"
  },
  "language_info": {
   "codemirror_mode": {
    "name": "ipython",
    "version": 3
   },
   "file_extension": ".py",
   "mimetype": "text/x-python",
   "name": "python",
   "nbconvert_exporter": "python",
   "pygments_lexer": "ipython3",
   "version": "3.11.9"
  }
 },
 "nbformat": 4,
 "nbformat_minor": 5
}
