{
 "cells": [
  {
   "cell_type": "code",
   "execution_count": 1,
   "id": "7b5edf80",
   "metadata": {},
   "outputs": [],
   "source": [
    "import numpy as np\n",
    "\n"
   ]
  },
  {
   "cell_type": "code",
   "execution_count": 2,
   "id": "49da3258",
   "metadata": {},
   "outputs": [],
   "source": [
    "arr=np.array([2,55,34,8,11,17,60,94,100])"
   ]
  },
  {
   "cell_type": "markdown",
   "id": "4c79113e",
   "metadata": {},
   "source": [
    "ARRAY MEMORY "
   ]
  },
  {
   "cell_type": "code",
   "execution_count": 3,
   "id": "71995eb9",
   "metadata": {},
   "outputs": [
    {
     "name": "stdout",
     "output_type": "stream",
     "text": [
      "True\n",
      "True\n",
      "True\n"
     ]
    }
   ],
   "source": [
    "print(arr. flags[\"WRITEABLE\"] )  # means array owns its memory \n",
    "print(arr.flags[\"C_CONTIGUOUS\"])\n",
    "print(arr.flags[\"OWNDATA\"])"
   ]
  },
  {
   "cell_type": "code",
   "execution_count": 4,
   "id": "851534e5",
   "metadata": {},
   "outputs": [
    {
     "data": {
      "text/plain": [
       "(9,)"
      ]
     },
     "execution_count": 4,
     "metadata": {},
     "output_type": "execute_result"
    }
   ],
   "source": [
    "arr.shape"
   ]
  },
  {
   "cell_type": "code",
   "execution_count": 5,
   "id": "4d61f2bb",
   "metadata": {},
   "outputs": [
    {
     "data": {
      "text/plain": [
       "(8,)"
      ]
     },
     "execution_count": 5,
     "metadata": {},
     "output_type": "execute_result"
    }
   ],
   "source": [
    "arr.strides             #Tuple of bytes to step in each dimension when traversing an array."
   ]
  },
  {
   "cell_type": "code",
   "execution_count": 6,
   "id": "1f29bea7",
   "metadata": {},
   "outputs": [
    {
     "name": "stdout",
     "output_type": "stream",
     "text": [
      "1\n"
     ]
    },
    {
     "data": {
      "text/plain": [
       "True"
      ]
     },
     "execution_count": 6,
     "metadata": {},
     "output_type": "execute_result"
    }
   ],
   "source": [
    "print(arr.ndim)         #Number of array dimensions.\n",
    "arr.size\n",
    "arr.itemsize\n",
    "arr.nbytes              #Total bytes consumed by the elements of the array.\n",
    "\n",
    "arr.base                #Base object if memory is from some other object.\n",
    "y=arr[1:4]\n",
    "y.base is arr"
   ]
  },
  {
   "cell_type": "code",
   "execution_count": 7,
   "id": "8357772c",
   "metadata": {},
   "outputs": [
    {
     "data": {
      "text/plain": [
       "dtype('int64')"
      ]
     },
     "execution_count": 7,
     "metadata": {},
     "output_type": "execute_result"
    }
   ],
   "source": [
    "arr.dtype      \t  #Data-type of the array's elements"
   ]
  },
  {
   "cell_type": "code",
   "execution_count": 8,
   "id": "ece1a7a8",
   "metadata": {},
   "outputs": [
    {
     "data": {
      "text/plain": [
       "array([   0.        ,  135.09934947,   15.94751083,   -7.79422863,\n",
       "         15.94812435,  -15.94812435,    7.79422863,  -15.94751083,\n",
       "       -135.09934947])"
      ]
     },
     "execution_count": 8,
     "metadata": {},
     "output_type": "execute_result"
    }
   ],
   "source": [
    "complex_arr=np.array([ 381.          +0.j        ,   82.65246204+135.09934947j,\n",
    "       -103.91594351 +15.94751083j,  -85.5         -7.79422863j,\n",
    "        -74.73651853 +15.94812435j,  -74.73651853 -15.94812435j,\n",
    "        -85.5         +7.79422863j, -103.91594351 -15.94751083j,\n",
    "         82.65246204-135.09934947j])\n",
    "real_part=complex_arr.real\n",
    "real_part\n",
    "imaginary_part=complex_arr.imag\n",
    "imaginary_part\n"
   ]
  },
  {
   "cell_type": "code",
   "execution_count": 9,
   "id": "7dd9580b",
   "metadata": {},
   "outputs": [
    {
     "name": "stdout",
     "output_type": "stream",
     "text": [
      "[[  2   8  60]\n",
      " [ 55  11  94]\n",
      " [ 34  17 100]]\n"
     ]
    }
   ],
   "source": [
    "new_arr=arr.reshape(3,3)\n",
    "new_arr\n",
    "print(new_arr.T)   #TRANSPOSE OF AN ARRAY."
   ]
  },
  {
   "cell_type": "markdown",
   "id": "88a90f9e",
   "metadata": {},
   "source": [
    "------ARRAY METHODS------\n"
   ]
  },
  {
   "cell_type": "code",
   "execution_count": 10,
   "id": "0b74a8a0",
   "metadata": {},
   "outputs": [
    {
     "data": {
      "text/plain": [
       "dtype('int64')"
      ]
     },
     "execution_count": 10,
     "metadata": {},
     "output_type": "execute_result"
    }
   ],
   "source": [
    "arr.item(2)   #0 dan başlayarak 2. elemanı seçer\n",
    "arr.dtype"
   ]
  },
  {
   "cell_type": "code",
   "execution_count": 11,
   "id": "e520fc6c",
   "metadata": {},
   "outputs": [
    {
     "data": {
      "text/plain": [
       "dtype('<U21')"
      ]
     },
     "execution_count": 11,
     "metadata": {},
     "output_type": "execute_result"
    }
   ],
   "source": [
    "my_arr=arr.astype(str,casting='safe',copy=False)   #veri tipini degistirdik normalde int di\n",
    "my_arr.dtype"
   ]
  },
  {
   "cell_type": "code",
   "execution_count": 12,
   "id": "a2ff0c05",
   "metadata": {},
   "outputs": [
    {
     "data": {
      "text/plain": [
       "array([9.88e-324, 2.72e-322, 1.68e-322, 3.95e-323, 5.43e-323, 8.40e-323,\n",
       "       2.96e-322, 4.64e-322, 4.94e-322])"
      ]
     },
     "execution_count": 12,
     "metadata": {},
     "output_type": "execute_result"
    }
   ],
   "source": [
    "arr.getfield(float) #Veriyi ham bitleriyle tutar ama başka tipmiş gibi okur"
   ]
  },
  {
   "cell_type": "code",
   "execution_count": 13,
   "id": "5e603086",
   "metadata": {},
   "outputs": [
    {
     "data": {
      "text/plain": [
       "array([[0.58024734, 0.65913581],\n",
       "       [0.82403493, 0.81159347],\n",
       "       [0.52678231, 0.7154612 ]])"
      ]
     },
     "execution_count": 13,
     "metadata": {},
     "output_type": "execute_result"
    }
   ],
   "source": [
    "arrayim=np.random.random((3,2))\n",
    "arrayim"
   ]
  },
  {
   "cell_type": "code",
   "execution_count": 14,
   "id": "4e743617",
   "metadata": {},
   "outputs": [
    {
     "data": {
      "text/plain": [
       "array([[0., 0.],\n",
       "       [0., 0.],\n",
       "       [0., 0.],\n",
       "       [0., 0.]])"
      ]
     },
     "execution_count": 14,
     "metadata": {},
     "output_type": "execute_result"
    }
   ],
   "source": [
    "zeros=np.zeros((4,2))\n",
    "zeros"
   ]
  },
  {
   "cell_type": "code",
   "execution_count": 15,
   "id": "9865234c",
   "metadata": {},
   "outputs": [
    {
     "data": {
      "text/plain": [
       "array([6., 6., 6., 6.])"
      ]
     },
     "execution_count": 15,
     "metadata": {},
     "output_type": "execute_result"
    }
   ],
   "source": [
    "empty_arr=np.empty(4)\n",
    "empty_arr.fill(6)         #verilen sayı ile arrayi doldurur\n",
    "empty_arr"
   ]
  },
  {
   "cell_type": "markdown",
   "id": "9afe2400",
   "metadata": {},
   "source": [
    "-------SHAPE MANUPILATION ------"
   ]
  },
  {
   "cell_type": "code",
   "execution_count": 16,
   "id": "483cb966",
   "metadata": {},
   "outputs": [],
   "source": [
    "arr=arr.reshape(3,3)"
   ]
  },
  {
   "cell_type": "code",
   "execution_count": 17,
   "id": "af9ba392",
   "metadata": {},
   "outputs": [
    {
     "data": {
      "text/plain": [
       "array([[6., 6.],\n",
       "       [6., 6.],\n",
       "       [0., 0.]])"
      ]
     },
     "execution_count": 17,
     "metadata": {},
     "output_type": "execute_result"
    }
   ],
   "source": [
    "empty_arr.resize(3,2,refcheck=False)      #yeniden boyutlandırır ve ekleme yapar.\n",
    "empty_arr"
   ]
  },
  {
   "cell_type": "code",
   "execution_count": 18,
   "id": "2e059308",
   "metadata": {},
   "outputs": [
    {
     "data": {
      "text/plain": [
       "array([[  2,   8,  60],\n",
       "       [ 55,  11,  94],\n",
       "       [ 34,  17, 100]])"
      ]
     },
     "execution_count": 18,
     "metadata": {},
     "output_type": "execute_result"
    }
   ],
   "source": [
    "arr.swapaxes(0,1)    #axis 0 (satırlar) ↔ axis 1 (sütunlar) \n"
   ]
  },
  {
   "cell_type": "code",
   "execution_count": 19,
   "id": "10453f6c",
   "metadata": {},
   "outputs": [
    {
     "data": {
      "text/plain": [
       "array([73, 78, 48, 71, 79, 77, 11, 30, 74, 56, 23, 49, 10, 63, 45, 46, 66,\n",
       "       11, 41, 67], dtype=int32)"
      ]
     },
     "execution_count": 19,
     "metadata": {},
     "output_type": "execute_result"
    }
   ],
   "source": [
    "two_dim=np.random.randint(10,80,20).reshape(4,5)   #two dimension to one dimension\n",
    "two_dim\n",
    "flat=two_dim.flatten()\n",
    "flat"
   ]
  },
  {
   "cell_type": "code",
   "execution_count": 20,
   "id": "afd4e1fc",
   "metadata": {},
   "outputs": [
    {
     "name": "stdout",
     "output_type": "stream",
     "text": [
      "Orijinal şekil: (1, 3, 1)\n",
      "Sıkıştırılmış şekil: (3,)\n",
      "[42 51 63]\n"
     ]
    }
   ],
   "source": [
    "dummy_array = np.array([[[42], [51], [63]]])  # shape: (1, 3, 1)        \n",
    "print(\"Orijinal şekil:\", dummy_array.shape)\n",
    "\n",
    "squeezed = np.squeeze(dummy_array)               #3 boyutlu arrayi tek boyutlu hale getirdi\n",
    "print(\"Sıkıştırılmış şekil:\", squeezed.shape)\n",
    "print(squeezed)"
   ]
  },
  {
   "cell_type": "markdown",
   "id": "351d1224",
   "metadata": {},
   "source": [
    "--------SELECTION AND MANUPILATION-------------:"
   ]
  },
  {
   "cell_type": "code",
   "execution_count": 21,
   "id": "cefaa4a6",
   "metadata": {},
   "outputs": [
    {
     "data": {
      "text/plain": [
       "array([[73, 78, 48, 71, 79],\n",
       "       [77, 11, 30, 74, 56],\n",
       "       [23, 49, 10, 63, 45],\n",
       "       [46, 66, 11, 41, 67]], dtype=int32)"
      ]
     },
     "execution_count": 21,
     "metadata": {},
     "output_type": "execute_result"
    }
   ],
   "source": [
    "two_dim"
   ]
  },
  {
   "cell_type": "code",
   "execution_count": 22,
   "id": "09f95942",
   "metadata": {},
   "outputs": [
    {
     "data": {
      "text/plain": [
       "array([[77, 11, 30, 74, 56],\n",
       "       [23, 49, 10, 63, 45]], dtype=int32)"
      ]
     },
     "execution_count": 22,
     "metadata": {},
     "output_type": "execute_result"
    }
   ],
   "source": [
    "two_dim[1:3]                             #1 satırdan 3 . satıra kadar verir 3 dahil değil"
   ]
  },
  {
   "cell_type": "code",
   "execution_count": 23,
   "id": "b741eaca",
   "metadata": {},
   "outputs": [
    {
     "data": {
      "text/plain": [
       "array([[77, 11],\n",
       "       [23, 49]], dtype=int32)"
      ]
     },
     "execution_count": 23,
     "metadata": {},
     "output_type": "execute_result"
    }
   ],
   "source": [
    "two_dim[1:3,0:2]                     #1 ve 2. satırın 0 ve 1. elemanları    [satır:satır,sütun:sütun]"
   ]
  },
  {
   "cell_type": "code",
   "execution_count": 24,
   "id": "a5520274",
   "metadata": {},
   "outputs": [
    {
     "data": {
      "text/plain": [
       "array([78, 48, 71], dtype=int32)"
      ]
     },
     "execution_count": 24,
     "metadata": {},
     "output_type": "execute_result"
    }
   ],
   "source": [
    "two_dim.take([1,2,3])                   #verilen indislerdekini seçer "
   ]
  },
  {
   "cell_type": "code",
   "execution_count": 25,
   "id": "5823d37c",
   "metadata": {},
   "outputs": [
    {
     "data": {
      "text/plain": [
       "array([11, 48, 71], dtype=int32)"
      ]
     },
     "execution_count": 25,
     "metadata": {},
     "output_type": "execute_result"
    }
   ],
   "source": [
    "two_dim.put(1,11)                      #verilen indise verilen numarayı yazar\n",
    "two_dim.take([1,2,3])  "
   ]
  },
  {
   "cell_type": "code",
   "execution_count": 26,
   "id": "442922ae",
   "metadata": {},
   "outputs": [
    {
     "data": {
      "text/plain": [
       "array([73, 73, 73, 11, 11, 11, 48, 48, 48, 71, 71, 71, 79, 79, 79, 77, 77,\n",
       "       77, 11, 11, 11, 30, 30, 30, 74, 74, 74, 56, 56, 56, 23, 23, 23, 49,\n",
       "       49, 49, 10, 10, 10, 63, 63, 63, 45, 45, 45, 46, 46, 46, 66, 66, 66,\n",
       "       11, 11, 11, 41, 41, 41, 67, 67, 67], dtype=int32)"
      ]
     },
     "execution_count": 26,
     "metadata": {},
     "output_type": "execute_result"
    }
   ],
   "source": [
    "two_dim.repeat(3)                      #her elemanı verilen sayı kadar tekrar  yazar"
   ]
  },
  {
   "cell_type": "code",
   "execution_count": 27,
   "id": "a3179510",
   "metadata": {},
   "outputs": [
    {
     "data": {
      "text/plain": [
       "array([[11, 48, 71, 73, 79],\n",
       "       [11, 30, 56, 74, 77],\n",
       "       [10, 23, 45, 49, 63],\n",
       "       [11, 41, 46, 66, 67]], dtype=int32)"
      ]
     },
     "execution_count": 27,
     "metadata": {},
     "output_type": "execute_result"
    }
   ],
   "source": [
    "two_dim.sort()\n",
    "two_dim"
   ]
  },
  {
   "cell_type": "code",
   "execution_count": 28,
   "id": "fa849d47",
   "metadata": {},
   "outputs": [
    {
     "data": {
      "text/plain": [
       "array([[0, 1, 2, 3, 4],\n",
       "       [0, 1, 2, 3, 4],\n",
       "       [0, 1, 2, 3, 4],\n",
       "       [0, 1, 2, 3, 4]])"
      ]
     },
     "execution_count": 28,
     "metadata": {},
     "output_type": "execute_result"
    }
   ],
   "source": [
    "two_dim.argsort()              #elemanların kaçıncı büyük olduğunu syöler biz zaten sıralamıştık"
   ]
  },
  {
   "cell_type": "code",
   "execution_count": 29,
   "id": "2cace97a",
   "metadata": {},
   "outputs": [
    {
     "data": {
      "text/plain": [
       "array([10, 11, 11, 11, 23, 30, 41, 45, 46, 48, 49, 56, 63, 66, 67, 71, 73,\n",
       "       74, 77, 79], dtype=int32)"
      ]
     },
     "execution_count": 29,
     "metadata": {},
     "output_type": "execute_result"
    }
   ],
   "source": [
    "partitioned=two_dim.ravel()                       \n",
    "                                       \n",
    "partitioned.partition(8)    #the value of the element in k-th position is in the position it would be in a sorted array. In the output array,\n",
    "partitioned                  #verilen indeksteki elemanı ortaya küçüklerini sola büyüklerini sağa yazar bu örenkte 8. indekste 33 vardı\n",
    "\n",
    "\n"
   ]
  },
  {
   "cell_type": "code",
   "execution_count": 30,
   "id": "d77fdb2a",
   "metadata": {},
   "outputs": [
    {
     "data": {
      "text/plain": [
       "(array([0, 0, 0, 0, 0, 1, 1, 1, 1, 1, 2, 2, 2, 2, 2, 3, 3, 3, 3, 3]),\n",
       " array([0, 1, 2, 3, 4, 0, 1, 2, 3, 4, 0, 1, 2, 3, 4, 0, 1, 2, 3, 4]))"
      ]
     },
     "execution_count": 30,
     "metadata": {},
     "output_type": "execute_result"
    }
   ],
   "source": [
    "two_dim.nonzero()            #0 olmayan her satırdaki eleman için  o satırın indeks numarasını yazar. ve 2. arrayda her saatır için 0 dan n e kadar yazar."
   ]
  },
  {
   "cell_type": "code",
   "execution_count": 31,
   "id": "bf9fb766",
   "metadata": {},
   "outputs": [
    {
     "name": "stdout",
     "output_type": "stream",
     "text": [
      "[10 30 50]\n"
     ]
    }
   ],
   "source": [
    "arr = np.array([10, 20, 30, 40, 50])                 #condition: Boolean (True/False) değerler içeren bir 1D dizi.\n",
    "                                                       #axis: Filtrenin uygulanacağı eksen (0: satır, 1: sütun).\n",
    "mask = [True, False, True, False, True]\n",
    "filtered = np.compress(mask, arr)                      #array: Filtrelenecek NumPy dizisi.\n",
    "print(filtered)  # [10 30 50]\n"
   ]
  },
  {
   "cell_type": "markdown",
   "id": "eac0cf75",
   "metadata": {},
   "source": [
    "----------CALCULATION------------"
   ]
  },
  {
   "cell_type": "code",
   "execution_count": 32,
   "id": "0cd632a8",
   "metadata": {},
   "outputs": [
    {
     "data": {
      "text/plain": [
       "array([10, 20, 30, 40, 50])"
      ]
     },
     "execution_count": 32,
     "metadata": {},
     "output_type": "execute_result"
    }
   ],
   "source": [
    "arr"
   ]
  },
  {
   "cell_type": "code",
   "execution_count": 33,
   "id": "330c7d6b",
   "metadata": {},
   "outputs": [
    {
     "data": {
      "text/plain": [
       "np.int64(50)"
      ]
     },
     "execution_count": 33,
     "metadata": {},
     "output_type": "execute_result"
    }
   ],
   "source": [
    "arr.max()"
   ]
  },
  {
   "cell_type": "code",
   "execution_count": 34,
   "id": "3bc66574",
   "metadata": {},
   "outputs": [
    {
     "data": {
      "text/plain": [
       "np.int64(10)"
      ]
     },
     "execution_count": 34,
     "metadata": {},
     "output_type": "execute_result"
    }
   ],
   "source": [
    "arr.min()"
   ]
  },
  {
   "cell_type": "code",
   "execution_count": 35,
   "id": "0572628a",
   "metadata": {},
   "outputs": [
    {
     "data": {
      "text/plain": [
       "np.int64(0)"
      ]
     },
     "execution_count": 35,
     "metadata": {},
     "output_type": "execute_result"
    }
   ],
   "source": [
    "arr.argmin()"
   ]
  },
  {
   "cell_type": "code",
   "execution_count": 36,
   "id": "99a6292f",
   "metadata": {},
   "outputs": [
    {
     "data": {
      "text/plain": [
       "array([20, 20, 30, 40, 50])"
      ]
     },
     "execution_count": 36,
     "metadata": {},
     "output_type": "execute_result"
    }
   ],
   "source": [
    "arr.clip(20,50)          #alt ve üst değer değişikliği yapar 20 den küçükleri 20'ye büyükleri de 50 ye eşitler"
   ]
  },
  {
   "cell_type": "code",
   "execution_count": 37,
   "id": "180b425c",
   "metadata": {},
   "outputs": [
    {
     "data": {
      "text/plain": [
       "array([ 1.-2.j ,  3.+4.j , -2.-0.5j,  0.+1.j ])"
      ]
     },
     "execution_count": 37,
     "metadata": {},
     "output_type": "execute_result"
    }
   ],
   "source": [
    "comp= np.array([1+2j, 3-4j, -2+0.5j, 0-1j])\n",
    "comp.conj()                                                 #complex conjugate ini verir"
   ]
  },
  {
   "cell_type": "code",
   "execution_count": 38,
   "id": "cb7deb83",
   "metadata": {},
   "outputs": [
    {
     "data": {
      "text/plain": [
       "array([ 1.23,  5.68,  0.  , -2.35])"
      ]
     },
     "execution_count": 38,
     "metadata": {},
     "output_type": "execute_result"
    }
   ],
   "source": [
    "fractions=np.array([1.234, 5.67891, 0.0001234, -2.3456])\n",
    "fractions.round(2)                                          #küsürat kısmını verilen basmağa indirir "
   ]
  },
  {
   "cell_type": "code",
   "execution_count": 39,
   "id": "2fb38023",
   "metadata": {},
   "outputs": [
    {
     "data": {
      "text/plain": [
       "array([[34, 45, 75, 36],\n",
       "       [82, 32, 38, 61],\n",
       "       [59, 37, 48, 57],\n",
       "       [48, 48, 74, 76]], dtype=int32)"
      ]
     },
     "execution_count": 39,
     "metadata": {},
     "output_type": "execute_result"
    }
   ],
   "source": [
    "arr=np.random.randint(10,90,16).reshape(4,4)\n",
    "arr"
   ]
  },
  {
   "cell_type": "code",
   "execution_count": 40,
   "id": "4a566166",
   "metadata": {},
   "outputs": [
    {
     "data": {
      "text/plain": [
       "array([212, 207, 130, 128])"
      ]
     },
     "execution_count": 40,
     "metadata": {},
     "output_type": "execute_result"
    }
   ],
   "source": [
    "arr=np.random.randint(10,90,16).reshape(4,4)\n",
    "arr.sum(axis=0)    #satırları toplar verir\n",
    "arr.sum(axis=1)    #sütunları toplar verir "
   ]
  },
  {
   "cell_type": "code",
   "execution_count": 41,
   "id": "490c6391",
   "metadata": {},
   "outputs": [],
   "source": [
    "prices = np.array([100, 102, 105, 107, 110])"
   ]
  },
  {
   "cell_type": "code",
   "execution_count": 42,
   "id": "ddfcd186",
   "metadata": {},
   "outputs": [
    {
     "data": {
      "text/plain": [
       "array([2, 3, 2, 3])"
      ]
     },
     "execution_count": 42,
     "metadata": {},
     "output_type": "execute_result"
    }
   ],
   "source": [
    "np.diff(prices)"
   ]
  },
  {
   "cell_type": "markdown",
   "id": "bd32f519",
   "metadata": {},
   "source": [
    ".sin .cos. arctan .arcos .hpot .degrees. radians .round. .florr .ceil .sum .cumsum .log .exp .log10 .power .pow .mod .sqrt .absolute GİBİ PEK ÇOK MATH FONKSİYONU MEVCUT "
   ]
  },
  {
   "cell_type": "code",
   "execution_count": 43,
   "id": "b2977e47",
   "metadata": {},
   "outputs": [
    {
     "data": {
      "text/plain": [
       "array([[ 54,  45,  35,  78],\n",
       "       [131,  67, 102, 119],\n",
       "       [172, 107, 112, 158],\n",
       "       [197, 155, 145, 180]])"
      ]
     },
     "execution_count": 43,
     "metadata": {},
     "output_type": "execute_result"
    }
   ],
   "source": [
    "arr.cumsum(axis=0)    #kümülatif toplamı verir"
   ]
  },
  {
   "cell_type": "code",
   "execution_count": 44,
   "id": "6c8fcd6c",
   "metadata": {},
   "outputs": [
    {
     "data": {
      "text/plain": [
       "np.float64(750.5555555555555)"
      ]
     },
     "execution_count": 44,
     "metadata": {},
     "output_type": "execute_result"
    }
   ],
   "source": [
    "darray=np.array([10,22,5,32,84,55])\n",
    "darray.var()      #arrayin varyansını verir "
   ]
  },
  {
   "cell_type": "code",
   "execution_count": 45,
   "id": "0fcf576c",
   "metadata": {},
   "outputs": [
    {
     "data": {
      "text/plain": [
       "np.float64(27.39626900794259)"
      ]
     },
     "execution_count": 45,
     "metadata": {},
     "output_type": "execute_result"
    }
   ],
   "source": [
    "darray.std()     #standart sapmasını verir"
   ]
  },
  {
   "cell_type": "code",
   "execution_count": 46,
   "id": "9bb7d50b",
   "metadata": {},
   "outputs": [
    {
     "data": {
      "text/plain": [
       "np.int64(162624000)"
      ]
     },
     "execution_count": 46,
     "metadata": {},
     "output_type": "execute_result"
    }
   ],
   "source": [
    "darray.prod(axis=0)   #verilen eksende elemanların çarpımı"
   ]
  },
  {
   "cell_type": "code",
   "execution_count": 47,
   "id": "91604d9c",
   "metadata": {},
   "outputs": [
    {
     "data": {
      "text/plain": [
       "np.True_"
      ]
     },
     "execution_count": 47,
     "metadata": {},
     "output_type": "execute_result"
    }
   ],
   "source": [
    "darray.all()    #tüm değerler tru ise true döndürür     \n",
    "darray.any()     #1 tane bile true vars true verir "
   ]
  },
  {
   "cell_type": "markdown",
   "id": "6cfa0931",
   "metadata": {},
   "source": [
    "FOURIER TRANSFORM AND INVERSE FOURIER"
   ]
  },
  {
   "cell_type": "code",
   "execution_count": 48,
   "id": "13bcbe9c",
   "metadata": {},
   "outputs": [
    {
     "data": {
      "text/plain": [
       "array([[212. +0.j,  19.+33.j, -34. +0.j,  19.-33.j],\n",
       "       [207. +0.j,  10.+19.j,  81. +0.j,  10.-19.j],\n",
       "       [130. +0.j,  31. -1.j, -28. +0.j,  31. +1.j],\n",
       "       [128. +0.j,  -8.-26.j, -12. +0.j,  -8.+26.j]])"
      ]
     },
     "execution_count": 48,
     "metadata": {},
     "output_type": "execute_result"
    }
   ],
   "source": [
    "fft_arr=np.fft.fft(arr)   #Compute the one-dimensional discrete Fourier Transform.\n",
    "fft_arr"
   ]
  },
  {
   "cell_type": "code",
   "execution_count": 49,
   "id": "7a0d3bfa",
   "metadata": {},
   "outputs": [
    {
     "data": {
      "text/plain": [
       "array([[54., 45., 35., 78.],\n",
       "       [77., 22., 67., 41.],\n",
       "       [41., 40., 10., 39.],\n",
       "       [25., 48., 33., 22.]])"
      ]
     },
     "execution_count": 49,
     "metadata": {},
     "output_type": "execute_result"
    }
   ],
   "source": [
    "normal_arr=np.fft.ifft(fft_arr).real   \n",
    "normal_arr\n"
   ]
  },
  {
   "cell_type": "markdown",
   "id": "96c81ed9",
   "metadata": {},
   "source": [
    "LINEAR ALGEBRA"
   ]
  },
  {
   "cell_type": "code",
   "execution_count": 50,
   "id": "816e2502",
   "metadata": {},
   "outputs": [
    {
     "name": "stdout",
     "output_type": "stream",
     "text": [
      "2669\n"
     ]
    }
   ],
   "source": [
    "first_arr=np.array([58,3,7,99])\n",
    "second_arr=np.array([22,1,43,11])\n",
    "result=np.dot(first_arr,second_arr)\n",
    "print(result)\n"
   ]
  },
  {
   "cell_type": "code",
   "execution_count": 51,
   "id": "90d2638a",
   "metadata": {},
   "outputs": [
    {
     "data": {
      "text/plain": [
       "np.int64(2669)"
      ]
     },
     "execution_count": 51,
     "metadata": {},
     "output_type": "execute_result"
    }
   ],
   "source": [
    "result=np.vdot(first_arr,second_arr)\n",
    "result"
   ]
  },
  {
   "cell_type": "code",
   "execution_count": 52,
   "id": "4c4d54bb",
   "metadata": {},
   "outputs": [
    {
     "data": {
      "text/plain": [
       "EigResult(eigenvalues=array([57.49404846, 99.50595154]), eigenvectors=array([[-0.98607486, -0.07209073],\n",
       "       [ 0.16630203, -0.99739808]]))"
      ]
     },
     "execution_count": 52,
     "metadata": {},
     "output_type": "execute_result"
    }
   ],
   "source": [
    "first_arr=first_arr.reshape(2,2)\n",
    "second_arr=second_arr.reshape(2,2)\n",
    "result1=np.linalg.eig(first_arr)         #eigen value of matrix\n",
    "result1"
   ]
  },
  {
   "cell_type": "code",
   "execution_count": 53,
   "id": "17661356",
   "metadata": {},
   "outputs": [
    {
     "data": {
      "text/plain": [
       "np.float64(198.99999999999997)"
      ]
     },
     "execution_count": 53,
     "metadata": {},
     "output_type": "execute_result"
    }
   ],
   "source": [
    "det=np.linalg.det(second_arr)   #determinant of array\n",
    "det"
   ]
  },
  {
   "cell_type": "code",
   "execution_count": 54,
   "id": "b02ba372",
   "metadata": {},
   "outputs": [
    {
     "data": {
      "text/plain": [
       "array([[ 0.01730467, -0.00052438],\n",
       "       [-0.00122356,  0.01013809]])"
      ]
     },
     "execution_count": 54,
     "metadata": {},
     "output_type": "execute_result"
    }
   ],
   "source": [
    "inverse=np.linalg.inv(first_arr)\n",
    "inverse"
   ]
  },
  {
   "cell_type": "code",
   "execution_count": 55,
   "id": "78f8ff61",
   "metadata": {},
   "outputs": [
    {
     "data": {
      "text/plain": [
       "array([[58,  7],\n",
       "       [ 3, 99]])"
      ]
     },
     "execution_count": 55,
     "metadata": {},
     "output_type": "execute_result"
    }
   ],
   "source": [
    "t=np.linalg.matrix_transpose(first_arr)\n",
    "t"
   ]
  },
  {
   "cell_type": "code",
   "execution_count": 56,
   "id": "e6152bb4",
   "metadata": {},
   "outputs": [],
   "source": [
    "a = np.array([[1, 2], [3, 5]])   # 1*x0 + 2 * x1 = 1    and   3 * x0 + 5 * x1 = 2\n",
    "b = np.array([1, 2])             # a arrayi katsayılar arrayi b arrayi sonuç arrayi solve methodu ile çözüyor\n",
    "x = np.linalg.solve(a, b)"
   ]
  }
 ],
 "metadata": {
  "kernelspec": {
   "display_name": "Python 3",
   "language": "python",
   "name": "python3"
  },
  "language_info": {
   "codemirror_mode": {
    "name": "ipython",
    "version": 3
   },
   "file_extension": ".py",
   "mimetype": "text/x-python",
   "name": "python",
   "nbconvert_exporter": "python",
   "pygments_lexer": "ipython3",
   "version": "3.11.9"
  }
 },
 "nbformat": 4,
 "nbformat_minor": 5
}
